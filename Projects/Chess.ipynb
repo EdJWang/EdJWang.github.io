{
 "cells": [
  {
   "cell_type": "markdown",
   "metadata": {},
   "source": [
    "# Exploratory Analysis on Chess Openings\n",
    "This goal of this kernel is to graphically visualize the LiChess Game Collection Dataset which contains over 20,000 individual chess matches and includes columns about the winner, Elo ratings, and opening played in each game. \n",
    "\n",
    "Table of Contents: <br>\n",
    "&emsp; [1. Introduction](#Intro) <br>\n",
    "&emsp; [2. Exploring Openings](#Open) <br>\n",
    "&emsp; &emsp; [2.1 Most Common Openings](#Comm) <br>\n",
    "&emsp; &emsp; [2.1 Win Rates By Openings](#WR_Open) <br>\n",
    "&emsp; [3. Win Rates By Elo Difference](#WR_by_Diffs) <br>\n",
    "&emsp; &emsp; [3.1 Matches With Small Elo Differences](#Small) <br>\n",
    "&emsp; &emsp; [3.2 Matches With Medium Elo Differences](#Med) <br>\n",
    "&emsp; &emsp; [3.3 Matches With Large Elo Differences](#Large) <br>\n",
    "&emsp; &emsp; [3.4 Matches With Very Large Elo Differences](#VLarge) <br>\n",
    "&emsp; &emsp; [3.4 All Together](#All) <br>\n",
    "&emsp; [4. Common Openings By Elo Group](#Open_Elo) <br>"
   ]
  },
  {
   "cell_type": "markdown",
   "metadata": {},
   "source": [
    "<a id='Intro'></a>\n",
    "# Introduction"
   ]
  },
  {
   "cell_type": "code",
   "execution_count": 1,
   "metadata": {},
   "outputs": [],
   "source": [
    "import numpy as np\n",
    "import pandas as pd\n",
    "import matplotlib.pyplot as plt\n",
    "from IPython.core.display import HTML\n",
    "\n",
    "df = pd.read_csv(\"games.csv\")"
   ]
  },
  {
   "cell_type": "code",
   "execution_count": 2,
   "metadata": {},
   "outputs": [
    {
     "data": {
      "text/html": [
       "\n",
       "<style>\n",
       ".output_png {\n",
       "    display: table-cell;\n",
       "    text-align: center;\n",
       "    vertical-align: middle;\n",
       "}\n",
       "</style>\n"
      ],
      "text/plain": [
       "<IPython.core.display.HTML object>"
      ]
     },
     "execution_count": 2,
     "metadata": {},
     "output_type": "execute_result"
    }
   ],
   "source": [
    "HTML(\"\"\"\n",
    "<style>\n",
    ".output_png {\n",
    "    display: table-cell;\n",
    "    text-align: center;\n",
    "    vertical-align: middle;\n",
    "}\n",
    "</style>\n",
    "\"\"\")"
   ]
  },
  {
   "cell_type": "markdown",
   "metadata": {},
   "source": [
    "We begin by viewing the first 3 instances of the dataset to view what variables are available and observe how they are structured."
   ]
  },
  {
   "cell_type": "code",
   "execution_count": 3,
   "metadata": {
    "scrolled": false
   },
   "outputs": [
    {
     "data": {
      "text/html": [
       "<div>\n",
       "<style scoped>\n",
       "    .dataframe tbody tr th:only-of-type {\n",
       "        vertical-align: middle;\n",
       "    }\n",
       "\n",
       "    .dataframe tbody tr th {\n",
       "        vertical-align: top;\n",
       "    }\n",
       "\n",
       "    .dataframe thead th {\n",
       "        text-align: right;\n",
       "    }\n",
       "</style>\n",
       "<table border=\"1\" class=\"dataframe\">\n",
       "  <thead>\n",
       "    <tr style=\"text-align: right;\">\n",
       "      <th></th>\n",
       "      <th>id</th>\n",
       "      <th>rated</th>\n",
       "      <th>created_at</th>\n",
       "      <th>last_move_at</th>\n",
       "      <th>turns</th>\n",
       "      <th>victory_status</th>\n",
       "      <th>winner</th>\n",
       "      <th>increment_code</th>\n",
       "      <th>white_id</th>\n",
       "      <th>white_rating</th>\n",
       "      <th>black_id</th>\n",
       "      <th>black_rating</th>\n",
       "      <th>moves</th>\n",
       "      <th>opening_eco</th>\n",
       "      <th>opening_name</th>\n",
       "      <th>opening_ply</th>\n",
       "    </tr>\n",
       "  </thead>\n",
       "  <tbody>\n",
       "    <tr>\n",
       "      <th>0</th>\n",
       "      <td>TZJHLljE</td>\n",
       "      <td>False</td>\n",
       "      <td>1.504210e+12</td>\n",
       "      <td>1.504210e+12</td>\n",
       "      <td>13</td>\n",
       "      <td>outoftime</td>\n",
       "      <td>white</td>\n",
       "      <td>15+2</td>\n",
       "      <td>bourgris</td>\n",
       "      <td>1500</td>\n",
       "      <td>a-00</td>\n",
       "      <td>1191</td>\n",
       "      <td>d4 d5 c4 c6 cxd5 e6 dxe6 fxe6 Nf3 Bb4+ Nc3 Ba5...</td>\n",
       "      <td>D10</td>\n",
       "      <td>Slav Defense: Exchange Variation</td>\n",
       "      <td>5</td>\n",
       "    </tr>\n",
       "    <tr>\n",
       "      <th>1</th>\n",
       "      <td>l1NXvwaE</td>\n",
       "      <td>True</td>\n",
       "      <td>1.504130e+12</td>\n",
       "      <td>1.504130e+12</td>\n",
       "      <td>16</td>\n",
       "      <td>resign</td>\n",
       "      <td>black</td>\n",
       "      <td>5+10</td>\n",
       "      <td>a-00</td>\n",
       "      <td>1322</td>\n",
       "      <td>skinnerua</td>\n",
       "      <td>1261</td>\n",
       "      <td>d4 Nc6 e4 e5 f4 f6 dxe5 fxe5 fxe5 Nxe5 Qd4 Nc6...</td>\n",
       "      <td>B00</td>\n",
       "      <td>Nimzowitsch Defense: Kennedy Variation</td>\n",
       "      <td>4</td>\n",
       "    </tr>\n",
       "    <tr>\n",
       "      <th>2</th>\n",
       "      <td>mIICvQHh</td>\n",
       "      <td>True</td>\n",
       "      <td>1.504130e+12</td>\n",
       "      <td>1.504130e+12</td>\n",
       "      <td>61</td>\n",
       "      <td>mate</td>\n",
       "      <td>white</td>\n",
       "      <td>5+10</td>\n",
       "      <td>ischia</td>\n",
       "      <td>1496</td>\n",
       "      <td>a-00</td>\n",
       "      <td>1500</td>\n",
       "      <td>e4 e5 d3 d6 Be3 c6 Be2 b5 Nd2 a5 a4 c5 axb5 Nc...</td>\n",
       "      <td>C20</td>\n",
       "      <td>King's Pawn Game: Leonardis Variation</td>\n",
       "      <td>3</td>\n",
       "    </tr>\n",
       "  </tbody>\n",
       "</table>\n",
       "</div>"
      ],
      "text/plain": [
       "         id  rated    created_at  last_move_at  turns victory_status winner  \\\n",
       "0  TZJHLljE  False  1.504210e+12  1.504210e+12     13      outoftime  white   \n",
       "1  l1NXvwaE   True  1.504130e+12  1.504130e+12     16         resign  black   \n",
       "2  mIICvQHh   True  1.504130e+12  1.504130e+12     61           mate  white   \n",
       "\n",
       "  increment_code  white_id  white_rating   black_id  black_rating  \\\n",
       "0           15+2  bourgris          1500       a-00          1191   \n",
       "1           5+10      a-00          1322  skinnerua          1261   \n",
       "2           5+10    ischia          1496       a-00          1500   \n",
       "\n",
       "                                               moves opening_eco  \\\n",
       "0  d4 d5 c4 c6 cxd5 e6 dxe6 fxe6 Nf3 Bb4+ Nc3 Ba5...         D10   \n",
       "1  d4 Nc6 e4 e5 f4 f6 dxe5 fxe5 fxe5 Nxe5 Qd4 Nc6...         B00   \n",
       "2  e4 e5 d3 d6 Be3 c6 Be2 b5 Nd2 a5 a4 c5 axb5 Nc...         C20   \n",
       "\n",
       "                             opening_name  opening_ply  \n",
       "0        Slav Defense: Exchange Variation            5  \n",
       "1  Nimzowitsch Defense: Kennedy Variation            4  \n",
       "2   King's Pawn Game: Leonardis Variation            3  "
      ]
     },
     "execution_count": 3,
     "metadata": {},
     "output_type": "execute_result"
    }
   ],
   "source": [
    "df.head(3)"
   ]
  },
  {
   "cell_type": "markdown",
   "metadata": {},
   "source": [
    "Next we will view the counts and datatypes of each variable."
   ]
  },
  {
   "cell_type": "code",
   "execution_count": 4,
   "metadata": {
    "scrolled": true
   },
   "outputs": [
    {
     "data": {
      "text/plain": [
       "id                20058\n",
       "rated             20058\n",
       "created_at        20058\n",
       "last_move_at      20058\n",
       "turns             20058\n",
       "victory_status    20058\n",
       "winner            20058\n",
       "increment_code    20058\n",
       "white_id          20058\n",
       "white_rating      20058\n",
       "black_id          20058\n",
       "black_rating      20058\n",
       "moves             20058\n",
       "opening_eco       20058\n",
       "opening_name      20058\n",
       "opening_ply       20058\n",
       "dtype: int64"
      ]
     },
     "execution_count": 4,
     "metadata": {},
     "output_type": "execute_result"
    }
   ],
   "source": [
    "df.count()"
   ]
  },
  {
   "cell_type": "markdown",
   "metadata": {},
   "source": [
    "Since the counts are all the same, this indicates there are no missing values, since NA values would decrease the variable count."
   ]
  },
  {
   "cell_type": "code",
   "execution_count": 5,
   "metadata": {},
   "outputs": [
    {
     "data": {
      "text/plain": [
       "id                 object\n",
       "rated                bool\n",
       "created_at        float64\n",
       "last_move_at      float64\n",
       "turns               int64\n",
       "victory_status     object\n",
       "winner             object\n",
       "increment_code     object\n",
       "white_id           object\n",
       "white_rating        int64\n",
       "black_id           object\n",
       "black_rating        int64\n",
       "moves              object\n",
       "opening_eco        object\n",
       "opening_name       object\n",
       "opening_ply         int64\n",
       "dtype: object"
      ]
     },
     "execution_count": 5,
     "metadata": {},
     "output_type": "execute_result"
    }
   ],
   "source": [
    "df.dtypes"
   ]
  },
  {
   "cell_type": "markdown",
   "metadata": {},
   "source": [
    "Since all datatypes appear to be correct, no further cleaning is required. We will begin our analysis in the next section."
   ]
  },
  {
   "cell_type": "markdown",
   "metadata": {},
   "source": [
    "<a id='Open'></a>\n",
    "# Exploring openings"
   ]
  },
  {
   "cell_type": "markdown",
   "metadata": {},
   "source": [
    "<a id='Comm'></a>\n",
    "### Most common openings"
   ]
  },
  {
   "cell_type": "code",
   "execution_count": 6,
   "metadata": {},
   "outputs": [
    {
     "data": {
      "text/plain": [
       "Van't Kruijs Opening                                       368\n",
       "Sicilian Defense                                           358\n",
       "Sicilian Defense: Bowdler Attack                           296\n",
       "Scotch Game                                                271\n",
       "French Defense: Knight Variation                           271\n",
       "                                                          ... \n",
       "Russian Game: Modern Attack                                  1\n",
       "Ruy Lopez: Classical Variation |  Modern Main Line           1\n",
       "Bishop's Opening: Warsaw Gambit                              1\n",
       "French Defense: Rubinstein Variation |  Kasparov Attack      1\n",
       "Sicilian Defense: Pin Variation |  Koch Variation            1\n",
       "Name: opening_name, Length: 1477, dtype: int64"
      ]
     },
     "execution_count": 6,
     "metadata": {},
     "output_type": "execute_result"
    }
   ],
   "source": [
    "df['opening_name'].value_counts()"
   ]
  },
  {
   "cell_type": "code",
   "execution_count": 7,
   "metadata": {},
   "outputs": [],
   "source": [
    "tab = df.groupby('opening_name')\n",
    "counts = tab['opening_name'].count()"
   ]
  },
  {
   "cell_type": "code",
   "execution_count": 8,
   "metadata": {
    "scrolled": true
   },
   "outputs": [
    {
     "data": {
      "text/plain": [
       "<matplotlib.legend.Legend at 0x7f9a54394c18>"
      ]
     },
     "execution_count": 8,
     "metadata": {},
     "output_type": "execute_result"
    },
    {
     "data": {
      "image/png": "[encoded data removed]",
      "text/plain": [
       "<Figure size 432x288 with 1 Axes>"
      ]
     },
     "metadata": {
      "needs_background": "light"
     },
     "output_type": "display_data"
    }
   ],
   "source": [
    "df1 = df[df['winner']=='white']\n",
    "df2 = df[df['winner']=='black']\n",
    "df3 = df[df['winner']=='draw']\n",
    "\n",
    "tab1 = df1.groupby('opening_name')\n",
    "counts1 = tab1['opening_name'].count()\n",
    "counts1 = counts1[counts>150]\n",
    "labs1 = counts1.index\n",
    "\n",
    "tab2 = df2.groupby('opening_name')\n",
    "counts2 = tab2['opening_name'].count()\n",
    "counts2 = counts2[counts>150]\n",
    "labs2 = counts2.index\n",
    "\n",
    "tab3 = df3.groupby('opening_name')\n",
    "counts3 = tab3['opening_name'].count()\n",
    "counts3 = counts3[counts>150]\n",
    "labs3 = counts3.index\n",
    "\n",
    "plt.bar(labs1,counts1,color = 'b',label = 'White wins')\n",
    "plt.bar(labs2,counts2,bottom = counts1,color = 'r',label = 'Black wins')\n",
    "plt.bar(labs3,counts3,bottom = (np.array(counts1)+np.array(counts2)),color = 'g',label = 'Draw')\n",
    "plt.xlabel('Opening')\n",
    "plt.ylabel('Games Played')\n",
    "plt.title('Opening vs Game Played')\n",
    "plt.xticks(rotation = 90)\n",
    "plt.legend()"
   ]
  },
  {
   "cell_type": "markdown",
   "metadata": {},
   "source": [
    "We observe that the Van't Kruijs Opening and the Sicilian Defense are the two most played openings in online chess, with well over 300 games played in each opening. "
   ]
  },
  {
   "cell_type": "markdown",
   "metadata": {},
   "source": [
    "<a id='WR_Open'></a>\n",
    "### Win Rates By Opening"
   ]
  },
  {
   "cell_type": "markdown",
   "metadata": {},
   "source": [
    "In this section, we are interested in observing the highest winrate openings for both the White and Black pieces. We will only include openings from our dataset that have had at least 20 games played."
   ]
  },
  {
   "cell_type": "code",
   "execution_count": 9,
   "metadata": {
    "scrolled": true
   },
   "outputs": [],
   "source": [
    "df['W_Win'] = np.where(df['winner']=='white',1,0)\n",
    "df['B_Win'] = np.where(df['winner']=='black',1,0)\n",
    "df['Draw'] = np.where(df['winner']=='draw',1,0)"
   ]
  },
  {
   "cell_type": "code",
   "execution_count": 29,
   "metadata": {
    "scrolled": true
   },
   "outputs": [
    {
     "data": {
      "text/plain": [
       "opening_name\n",
       "Russian Game: Damiano Variation                                     0.800000\n",
       "Sicilian Defense: Open                                              0.791667\n",
       "Nimzowitsch Defense: Scandinavian Variation |  Advance Variation    0.791667\n",
       "Pirc Defense #5                                                     0.744186\n",
       "King's Gambit Accepted |  MacLeod Defense                           0.730769\n",
       "                                                                      ...   \n",
       "Sicilian Defense: Modern Variations |  Main Line                    0.300000\n",
       "Sicilian Defense: Paulsen Variation                                 0.259259\n",
       "King's Pawn Game                                                    0.250000\n",
       "Kadas Opening                                                       0.206897\n",
       "Grob Opening                                                        0.206897\n",
       "Length: 220, dtype: float64"
      ]
     },
     "execution_count": 29,
     "metadata": {},
     "output_type": "execute_result"
    }
   ],
   "source": [
    "W_Sum = df.groupby('opening_name').sum().loc[df.groupby('opening_name').size()>20,'W_Win']\n",
    "W_Count = df.groupby('opening_name').size().loc[df.groupby('opening_name').size()>20]\n",
    "W_winrate = W_Sum/W_Count\n",
    "W_winrate.sort_values(ascending = False)"
   ]
  },
  {
   "cell_type": "markdown",
   "metadata": {},
   "source": [
    "We observe that the openings where White has the highest winrate are the Russian Game: Damiano Variation, and the Open Sicilian Defense."
   ]
  },
  {
   "cell_type": "code",
   "execution_count": 30,
   "metadata": {
    "scrolled": true
   },
   "outputs": [
    {
     "data": {
      "text/plain": [
       "opening_name\n",
       "Grob Opening                                                        0.724138\n",
       "Kadas Opening                                                       0.724138\n",
       "King's Pawn Game                                                    0.714286\n",
       "Sicilian Defense: Modern Variations |  Main Line                    0.700000\n",
       "Mieses Opening: Reversed Rat                                        0.692308\n",
       "                                                                      ...   \n",
       "Zukertort Opening: Queen's Gambit Invitation                        0.245283\n",
       "Pirc Defense #5                                                     0.232558\n",
       "Russian Game: Damiano Variation                                     0.200000\n",
       "Sicilian Defense: Open                                              0.166667\n",
       "Nimzowitsch Defense: Scandinavian Variation |  Advance Variation    0.166667\n",
       "Length: 220, dtype: float64"
      ]
     },
     "execution_count": 30,
     "metadata": {},
     "output_type": "execute_result"
    }
   ],
   "source": [
    "B_Sum = df.groupby('opening_name').sum().loc[df.groupby('opening_name').size()>20,'B_Win']\n",
    "B_Count = df.groupby('opening_name').size().loc[df.groupby('opening_name').size()>20]\n",
    "B_winrate = B_Sum/B_Count\n",
    "B_winrate.sort_values(ascending = False)"
   ]
  },
  {
   "cell_type": "markdown",
   "metadata": {},
   "source": [
    "We observe that the 2 openings in which Black has the highest winrate are the Grob and Kadas Openings. These openings are infamous for placing White at a disadvantage because they sacrifice priority over the center squares."
   ]
  },
  {
   "cell_type": "code",
   "execution_count": 32,
   "metadata": {},
   "outputs": [
    {
     "data": {
      "text/plain": [
       "opening_name\n",
       "Zukertort Opening: Kingside Fianchetto         0.291667\n",
       "Benoni Defense: Benoni Gambit Accepted         0.272727\n",
       "Semi-Slav Defense                              0.212121\n",
       "Reti Opening                                   0.142857\n",
       "Trompowsky Attack                              0.136364\n",
       "                                                 ...   \n",
       "English Opening: Anglo-Scandinavian Defense    0.000000\n",
       "English Opening: Anglo-Indian Defense          0.000000\n",
       "Sicilian Defense: Hyperaccelerated Dragon      0.000000\n",
       "Saragossa Opening                              0.000000\n",
       "English Opening                                0.000000\n",
       "Length: 220, dtype: float64"
      ]
     },
     "execution_count": 32,
     "metadata": {},
     "output_type": "execute_result"
    }
   ],
   "source": [
    "D_Sum = df.groupby('opening_name').sum().loc[df.groupby('opening_name').size()>20,'Draw']\n",
    "D_Count = df.groupby('opening_name').size().loc[df.groupby('opening_name').size()>20]\n",
    "Draw_rate = D_Sum/D_Count\n",
    "Draw_rate.sort_values(ascending = False)"
   ]
  },
  {
   "cell_type": "markdown",
   "metadata": {},
   "source": [
    "<a id='WR_by_Diffs'></a>\n",
    "# Win Rates By Elo Differences\n",
    "A player's Elo is their skill rating calculated relative to all other players. The higher your Elo rating is, the better you are at the game compared to other players. In chess, Elo ratings typically fall between 600-3000. In this section we are interested in the effects of Elo differences between chess players on match outcomes. Are players more likely to win if their Elo rating is higher? If so, by how much?"
   ]
  },
  {
   "cell_type": "code",
   "execution_count": 13,
   "metadata": {},
   "outputs": [],
   "source": [
    "#Calculate the absolute difference between player ratings\n",
    "df['Elo_diff'] = np.abs(df['white_rating']-df['black_rating'])\n",
    "#Calculate which player has the higher Elo\n",
    "df['Higher_elo'] = np.where(df['white_rating'] > df['black_rating'],'white','black')\n",
    "#Set exactly equal player ratings equal to 'same'\n",
    "df.loc[df['Elo_diff']==0,'Higher_elo'] = 'same'\n",
    "#Create a variable which specifies whether the higher Elo player won the game\n",
    "df['Higher_wins'] = np.where(df['Higher_elo']==df['winner'],True,False)"
   ]
  },
  {
   "cell_type": "markdown",
   "metadata": {},
   "source": [
    "We visualize the created variables in the dataframe below:"
   ]
  },
  {
   "cell_type": "code",
   "execution_count": 14,
   "metadata": {
    "scrolled": true
   },
   "outputs": [
    {
     "data": {
      "text/html": [
       "<div>\n",
       "<style scoped>\n",
       "    .dataframe tbody tr th:only-of-type {\n",
       "        vertical-align: middle;\n",
       "    }\n",
       "\n",
       "    .dataframe tbody tr th {\n",
       "        vertical-align: top;\n",
       "    }\n",
       "\n",
       "    .dataframe thead th {\n",
       "        text-align: right;\n",
       "    }\n",
       "</style>\n",
       "<table border=\"1\" class=\"dataframe\">\n",
       "  <thead>\n",
       "    <tr style=\"text-align: right;\">\n",
       "      <th></th>\n",
       "      <th>Higher_elo</th>\n",
       "      <th>Elo_diff</th>\n",
       "      <th>winner</th>\n",
       "      <th>Higher_wins</th>\n",
       "    </tr>\n",
       "  </thead>\n",
       "  <tbody>\n",
       "    <tr>\n",
       "      <th>0</th>\n",
       "      <td>white</td>\n",
       "      <td>309</td>\n",
       "      <td>white</td>\n",
       "      <td>True</td>\n",
       "    </tr>\n",
       "    <tr>\n",
       "      <th>1</th>\n",
       "      <td>white</td>\n",
       "      <td>61</td>\n",
       "      <td>black</td>\n",
       "      <td>False</td>\n",
       "    </tr>\n",
       "    <tr>\n",
       "      <th>2</th>\n",
       "      <td>black</td>\n",
       "      <td>4</td>\n",
       "      <td>white</td>\n",
       "      <td>False</td>\n",
       "    </tr>\n",
       "    <tr>\n",
       "      <th>3</th>\n",
       "      <td>black</td>\n",
       "      <td>15</td>\n",
       "      <td>white</td>\n",
       "      <td>False</td>\n",
       "    </tr>\n",
       "    <tr>\n",
       "      <th>4</th>\n",
       "      <td>white</td>\n",
       "      <td>54</td>\n",
       "      <td>white</td>\n",
       "      <td>True</td>\n",
       "    </tr>\n",
       "  </tbody>\n",
       "</table>\n",
       "</div>"
      ],
      "text/plain": [
       "  Higher_elo  Elo_diff winner  Higher_wins\n",
       "0      white       309  white         True\n",
       "1      white        61  black        False\n",
       "2      black         4  white        False\n",
       "3      black        15  white        False\n",
       "4      white        54  white         True"
      ]
     },
     "execution_count": 14,
     "metadata": {},
     "output_type": "execute_result"
    }
   ],
   "source": [
    "df.iloc[:,[-2,-3,6,-1]].head()"
   ]
  },
  {
   "cell_type": "markdown",
   "metadata": {},
   "source": [
    "<a id='Small'></a>\n",
    "### Matches with small differences in Elo rating (0-49 point difference between Elo ratings)"
   ]
  },
  {
   "cell_type": "code",
   "execution_count": 15,
   "metadata": {},
   "outputs": [
    {
     "data": {
      "text/plain": [
       "5383"
      ]
     },
     "execution_count": 15,
     "metadata": {},
     "output_type": "execute_result"
    }
   ],
   "source": [
    "len(df.loc[df['Elo_diff']<50])"
   ]
  },
  {
   "cell_type": "markdown",
   "metadata": {},
   "source": [
    "The number of matches in this category is 5383."
   ]
  },
  {
   "cell_type": "code",
   "execution_count": 16,
   "metadata": {
    "scrolled": true
   },
   "outputs": [
    {
     "data": {
      "text/plain": [
       "0.4703696823332714"
      ]
     },
     "execution_count": 16,
     "metadata": {},
     "output_type": "execute_result"
    }
   ],
   "source": [
    "Small_diff_winrate = np.sum(df.loc[df['Elo_diff']<50,'Higher_wins'])/len(df.loc[df['Elo_diff']<50])\n",
    "Small_diff_winrate"
   ]
  },
  {
   "cell_type": "markdown",
   "metadata": {},
   "source": [
    "The proportion of games where the higher Elo player has won is .488 or 48.8%. Indicating in matches where Elo is very close, having a higher Elo is not predictive of a higher match win-rate."
   ]
  },
  {
   "cell_type": "markdown",
   "metadata": {},
   "source": [
    "<a id='Med'></a>\n",
    "### Matches with medium differences in Elo rating (50-149 point difference between Elo ratings)"
   ]
  },
  {
   "cell_type": "code",
   "execution_count": 17,
   "metadata": {},
   "outputs": [
    {
     "data": {
      "text/plain": [
       "6391"
      ]
     },
     "execution_count": 17,
     "metadata": {},
     "output_type": "execute_result"
    }
   ],
   "source": [
    "len(df.loc[(df['Elo_diff']>=50)&(df['Elo_diff']<150)])"
   ]
  },
  {
   "cell_type": "markdown",
   "metadata": {},
   "source": [
    "There are 6391 matches in this category."
   ]
  },
  {
   "cell_type": "code",
   "execution_count": 18,
   "metadata": {
    "scrolled": true
   },
   "outputs": [
    {
     "data": {
      "text/plain": [
       "0.5764356125801909"
      ]
     },
     "execution_count": 18,
     "metadata": {},
     "output_type": "execute_result"
    }
   ],
   "source": [
    "Med_diff_winrate = np.sum(df.loc[(df['Elo_diff']>=50)&(df['Elo_diff']<150),'Higher_wins'])/len(df.loc[(df['Elo_diff']>=50)&(df['Elo_diff']<150)])\n",
    "Med_diff_winrate"
   ]
  },
  {
   "cell_type": "markdown",
   "metadata": {},
   "source": [
    "The proportion of games where the higher Elo player has won is .576 or 57.6%."
   ]
  },
  {
   "cell_type": "markdown",
   "metadata": {},
   "source": [
    "<a id='Large'></a>\n",
    "### Matches with large differences in Elo rating (150-299 point difference between Elo ratings)"
   ]
  },
  {
   "cell_type": "code",
   "execution_count": 19,
   "metadata": {},
   "outputs": [
    {
     "data": {
      "text/plain": [
       "4609"
      ]
     },
     "execution_count": 19,
     "metadata": {},
     "output_type": "execute_result"
    }
   ],
   "source": [
    "len(df.loc[(df['Elo_diff']>=150)&(df['Elo_diff']<300)])"
   ]
  },
  {
   "cell_type": "markdown",
   "metadata": {},
   "source": [
    "There are 4609 matches in this category."
   ]
  },
  {
   "cell_type": "code",
   "execution_count": 20,
   "metadata": {},
   "outputs": [
    {
     "data": {
      "text/plain": [
       "0.685181167281406"
      ]
     },
     "execution_count": 20,
     "metadata": {},
     "output_type": "execute_result"
    }
   ],
   "source": [
    "Large_diff_winrate = np.sum(df.loc[(df['Elo_diff']>=150)&(df['Elo_diff']<300),'Higher_wins'])/len(df.loc[(df['Elo_diff']>=150)&(df['Elo_diff']<300)])\n",
    "Large_diff_winrate"
   ]
  },
  {
   "cell_type": "markdown",
   "metadata": {},
   "source": [
    "The proportion of games where the higher Elo player has won is .685 or 68.5%."
   ]
  },
  {
   "cell_type": "markdown",
   "metadata": {},
   "source": [
    "<a id='VLarge'></a>\n",
    "### Matches with very larges differences in Elo rating (300+ point difference between Elo ratings)"
   ]
  },
  {
   "cell_type": "code",
   "execution_count": 21,
   "metadata": {},
   "outputs": [
    {
     "data": {
      "text/plain": [
       "3675"
      ]
     },
     "execution_count": 21,
     "metadata": {},
     "output_type": "execute_result"
    }
   ],
   "source": [
    "len(df.loc[df['Elo_diff']>=300])"
   ]
  },
  {
   "cell_type": "markdown",
   "metadata": {},
   "source": [
    "There are 3675 matches in this category."
   ]
  },
  {
   "cell_type": "code",
   "execution_count": 22,
   "metadata": {},
   "outputs": [
    {
     "data": {
      "text/plain": [
       "0.8103401360544218"
      ]
     },
     "execution_count": 22,
     "metadata": {},
     "output_type": "execute_result"
    }
   ],
   "source": [
    "Largest_diff_winrate = np.sum(df.loc[df['Elo_diff']>=300,'Higher_wins'])/len(df.loc[df['Elo_diff']>=300])\n",
    "Largest_diff_winrate"
   ]
  },
  {
   "cell_type": "markdown",
   "metadata": {},
   "source": [
    "The proportion of games where the higher Elo player has won is .81 or 81.0%."
   ]
  },
  {
   "cell_type": "markdown",
   "metadata": {},
   "source": [
    "<a id='All'></a>\n",
    "### All together\n",
    "We will visualize all these elo differences together through a barplot:"
   ]
  },
  {
   "cell_type": "code",
   "execution_count": 23,
   "metadata": {},
   "outputs": [
    {
     "data": {
      "image/png": "[encoded data removed]",
      "text/plain": [
       "<Figure size 432x288 with 1 Axes>"
      ]
     },
     "metadata": {
      "needs_background": "light"
     },
     "output_type": "display_data"
    }
   ],
   "source": [
    "elo_names = ['0-49 Difference', '50-149 Difference', '150-299 Difference', '300+ Difference']\n",
    "elo = [Small_diff_winrate, Med_diff_winrate, Large_diff_winrate, Largest_diff_winrate]\n",
    "plt.bar(elo_names, elo)\n",
    "plt.xlabel('Elo Differences')\n",
    "plt.ylabel('Higher Elo Win Percentage')\n",
    "plt.title('Elo Difference VS Higher Elo Win Rate')\n",
    "plt.xticks(rotation = 90)\n",
    "plt.show()"
   ]
  },
  {
   "cell_type": "markdown",
   "metadata": {},
   "source": [
    "<a id='Open_Elo'></a>\n",
    "# Common Openings By Elo Groups\n",
    "We will now explore which openings are most common depending on elo level. We will separate Elo level into 4 categories specified below:\n",
    "* 0-1300 Average Elo\n",
    "* 1300-1599 Average Elo\n",
    "* 1600-1900 Average Elo\n",
    "* 1900+ Average Elo \n",
    "<br>\n",
    "\n",
    "Where average Elo is defined as the average Elo value between both players in each game."
   ]
  },
  {
   "cell_type": "code",
   "execution_count": 24,
   "metadata": {},
   "outputs": [],
   "source": [
    "df[\"Avg_Elo\"] = (df['white_rating']+df['black_rating'])/2"
   ]
  },
  {
   "cell_type": "code",
   "execution_count": 25,
   "metadata": {},
   "outputs": [
    {
     "data": {
      "text/plain": [
       "Van't Kruijs Opening                             133\n",
       "Scandinavian Defense                              90\n",
       "King's Pawn Game: Wayward Queen Attack            56\n",
       "Queen's Pawn Game: Chigorin Variation             47\n",
       "Scandinavian Defense: Mieses-Kotroc Variation     46\n",
       "Four Knights Game: Italian Variation              43\n",
       "King's Pawn Game: Leonardis Variation             42\n",
       "Sicilian Defense                                  40\n",
       "Philidor Defense #2                               35\n",
       "Horwitz Defense                                   34\n",
       "Name: opening_name, dtype: int64"
      ]
     },
     "execution_count": 25,
     "metadata": {},
     "output_type": "execute_result"
    }
   ],
   "source": [
    "df.loc[(df['Avg_Elo']>=0)&(df['Avg_Elo']<1300),'opening_name'].value_counts()[:10]"
   ]
  },
  {
   "cell_type": "code",
   "execution_count": 26,
   "metadata": {},
   "outputs": [
    {
     "data": {
      "text/plain": [
       "Van't Kruijs Opening                             177\n",
       "Sicilian Defense                                 173\n",
       "Scotch Game                                      165\n",
       "Sicilian Defense: Bowdler Attack                 144\n",
       "Scandinavian Defense: Mieses-Kotroc Variation    128\n",
       "Philidor Defense #2                              120\n",
       "Philidor Defense #3                              118\n",
       "French Defense: Knight Variation                 114\n",
       "Queen's Pawn Game: Chigorin Variation            105\n",
       "Scandinavian Defense                             101\n",
       "Name: opening_name, dtype: int64"
      ]
     },
     "execution_count": 26,
     "metadata": {},
     "output_type": "execute_result"
    }
   ],
   "source": [
    "df.loc[(df['Avg_Elo']>=1300)&(df['Avg_Elo']<1600),'opening_name'].value_counts()[:10]"
   ]
  },
  {
   "cell_type": "code",
   "execution_count": 27,
   "metadata": {},
   "outputs": [
    {
     "data": {
      "text/plain": [
       "Sicilian Defense                                 121\n",
       "Sicilian Defense: Bowdler Attack                 113\n",
       "French Defense: Knight Variation                 107\n",
       "Queen's Pawn Game: Mason Attack                   96\n",
       "Indian Game                                       72\n",
       "Horwitz Defense                                   71\n",
       "Sicilian Defense: Old Sicilian                    68\n",
       "Italian Game: Anti-Fried Liver Defense            68\n",
       "Scandinavian Defense: Mieses-Kotroc Variation     68\n",
       "Scotch Game                                       67\n",
       "Name: opening_name, dtype: int64"
      ]
     },
     "execution_count": 27,
     "metadata": {},
     "output_type": "execute_result"
    }
   ],
   "source": [
    "df.loc[(df['Avg_Elo']>=1600)&(df['Avg_Elo']<1900),'opening_name'].value_counts()[:10]"
   ]
  },
  {
   "cell_type": "code",
   "execution_count": 28,
   "metadata": {
    "scrolled": true
   },
   "outputs": [
    {
     "data": {
      "text/plain": [
       "Indian Game                              43\n",
       "Sicilian Defense: Old Sicilian           28\n",
       "Queen's Pawn Game: Mason Attack          26\n",
       "Sicilian Defense                         24\n",
       "French Defense: Exchange Variation       23\n",
       "Queen's Pawn Game: London System         21\n",
       "Sicilian Defense: Najdorf Variation      20\n",
       "Horwitz Defense                          19\n",
       "Caro-Kann Defense: Exchange Variation    19\n",
       "Caro-Kann Defense                        18\n",
       "Name: opening_name, dtype: int64"
      ]
     },
     "execution_count": 28,
     "metadata": {},
     "output_type": "execute_result"
    }
   ],
   "source": [
    "df.loc[df['Avg_Elo']>=1900,'opening_name'].value_counts()[:10]"
   ]
  },
  {
   "cell_type": "markdown",
   "metadata": {},
   "source": [
    "We observe that in the lower Elo groups (0-1299 and 1300-1599 groups), the Van't Kruijs opening is the highest played opening. However, this opening does not even make the top 10 in the two higher Elo groups. Furthermore, openings such as the Scandinavian opening and Philidor Defense are also commonly played in lower Elos but not in higher ones, based on our data.\n",
    "\n",
    "On the other hand, we observe that in the highest elo games (1900+ group), the Indian Opening and Old Sicilian Defense are most popular. Furthermore, openings such as the Najdorf, London System, and variations of the Caro-Kann defense are frequently played in the highest Elo games, but were not common openings in any other Elo group."
   ]
  }
 ],
 "metadata": {
  "kernelspec": {
   "display_name": "Python 3",
   "language": "python",
   "name": "python3"
  },
  "language_info": {
   "codemirror_mode": {
    "name": "ipython",
    "version": 3
   },
   "file_extension": ".py",
   "mimetype": "text/x-python",
   "name": "python",
   "nbconvert_exporter": "python",
   "pygments_lexer": "ipython3",
   "version": "3.6.10"
  }
 },
 "nbformat": 4,
 "nbformat_minor": 4
}
